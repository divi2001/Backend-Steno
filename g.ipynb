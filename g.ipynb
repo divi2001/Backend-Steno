{
 "cells": [
  {
   "cell_type": "code",
   "execution_count": 2,
   "metadata": {},
   "outputs": [
    {
     "name": "stdout",
     "output_type": "stream",
     "text": [
      "Connected to MySQL database\n",
      "Table deleted successfully\n"
     ]
    }
   ],
   "source": [
    "import mysql.connector\n",
    "# Connect to the MySQL server\n",
    "connection = mysql.connector.connect(\n",
    "    host=\"localhost\",\n",
    "    user=\"root\",\n",
    "    password=\"tanuj1221\",\n",
    "    database=\"demo1\"\n",
    ")\n",
    "\n",
    "if connection.is_connected():\n",
    "    print(\"Connected to MySQL database\")\n",
    "\n",
    "    # Create a cursor object\n",
    "    cursor = connection.cursor()\n",
    "\n",
    "    # Define the SQL query to drop the table\n",
    "    table_name = \"institutedb\"\n",
    "    drop_table_query = f\"DROP TABLE IF EXISTS {table_name}\"\n",
    "\n",
    "    # Execute the SQL query\n",
    "    cursor.execute(drop_table_query)\n",
    "\n",
    "    # Commit the changes\n",
    "    connection.commit()\n",
    "\n",
    "    # Close the cursor and the connection\n",
    "    cursor.close()\n",
    "    connection.close()\n",
    "    print(\"Table deleted successfully\")\n",
    "else:\n",
    "    print(\"Failed to connect to MySQL database\")\n"
   ]
  },
  {
   "cell_type": "code",
   "execution_count": null,
   "metadata": {},
   "outputs": [],
   "source": []
  },
  {
   "cell_type": "code",
   "execution_count": 4,
   "metadata": {},
   "outputs": [
    {
     "name": "stdout",
     "output_type": "stream",
     "text": [
      "('12343', '1221', '13124', '1', '21/2/2024', '29/2/2024', 'Rajesh', 'Mishra', 'Shanti', 'Murali', '[101]', 'paid', '[11]', '2024', 'yes', '10', 'no', '1')\n",
      "('12343', '1221', '13124', '1', '21/2/2024', '29/2/2024', 'Rajesh', 'Mishra', 'Shanti', 'Murali', '[101]', 'paid', '[11]', '2024', 'yes', '10', 'no', '1')\n",
      "('12343', '1221', '13124', '1', '21/2/2024', '29/2/2024', 'Rajesh', 'Mishra', 'Shanti', 'Murali', '[101]', 'paid', '[11]', '2024', 'yes', '10', 'no', '1')\n",
      "('12343', '1221', '13124', '1', '21/2/2024', '29/2/2024', 'Rajesh', 'Mishra', 'Shanti', 'Murali', '[101]', 'paid', '[11]', '2024', 'yes', '10', 'no', '1')\n",
      "('29054', '1315', None, None, None, None, 'sanket ', 'patil', 'Rani', 'Maharaj', '[\"101\"]', 'pending', '[11]', None, 'yes', '10', 'no', None)\n",
      "('59396', '2486', None, None, '21/2/2024', '29/2/2024', 'sanket ', 'Chavan', 'Rani', 'Maharaj', '[\"101\"]', 'pending', '[11]', '2024', 'yes', '10', 'no', '1')\n",
      "('78604', '1294', '13124', None, '21/2/2024', '29/2/2024', 'sanket ', 'Chavan', 'Rani', 'Maharaj', '[\"102\"]', 'pending', '[11]', '2024', 'yes', '10', 'no', '1')\n"
     ]
    }
   ],
   "source": [
    "import mysql.connector\n",
    "\n",
    "# Connect to the MySQL server\n",
    "connection = mysql.connector.connect(\n",
    "    host=\"localhost\",\n",
    "    user=\"root\",\n",
    "    password=\"tanuj1221\",\n",
    "    database=\"demo1\"\n",
    ")\n",
    "\n",
    "# Create a cursor object using the connection\n",
    "cursor = connection.cursor()\n",
    "\n",
    "# Query to select all records from the institutedb table\n",
    "query = \"SELECT * FROM student14\"\n",
    "\n",
    "try:\n",
    "    # Execute the query\n",
    "    cursor.execute(query)\n",
    "\n",
    "    # Fetch all the rows\n",
    "    results = cursor.fetchall()\n",
    "\n",
    "    # Check if any rows are returned\n",
    "    if results:\n",
    "        for row in results:\n",
    "            print(row)  # Print each row\n",
    "    else:\n",
    "        print(\"No data found in the table.\")\n",
    "\n",
    "except mysql.connector.Error as e:\n",
    "    print(f\"Error: {e}\")\n",
    "\n",
    "finally:\n",
    "    # Close the cursor and connection to free up the resources\n",
    "    cursor.close()\n",
    "    connection.close()\n"
   ]
  },
  {
   "cell_type": "code",
   "execution_count": null,
   "metadata": {},
   "outputs": [],
   "source": [
    "\n"
   ]
  }
 ],
 "metadata": {
  "kernelspec": {
   "display_name": "Python 3",
   "language": "python",
   "name": "python3"
  },
  "language_info": {
   "codemirror_mode": {
    "name": "ipython",
    "version": 3
   },
   "file_extension": ".py",
   "mimetype": "text/x-python",
   "name": "python",
   "nbconvert_exporter": "python",
   "pygments_lexer": "ipython3",
   "version": "3.9.0"
  }
 },
 "nbformat": 4,
 "nbformat_minor": 2
}
