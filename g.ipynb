{
 "cells": [
  {
   "cell_type": "code",
   "execution_count": 13,
   "metadata": {},
   "outputs": [
    {
     "ename": "ModuleNotFoundError",
     "evalue": "No module named 'mysql'",
     "output_type": "error",
     "traceback": [
      "\u001b[1;31m---------------------------------------------------------------------------\u001b[0m",
      "\u001b[1;31mModuleNotFoundError\u001b[0m                       Traceback (most recent call last)",
      "\u001b[1;32m~\\AppData\\Local\\Temp\\ipykernel_18188\\4078941020.py\u001b[0m in \u001b[0;36m<module>\u001b[1;34m\u001b[0m\n\u001b[1;32m----> 1\u001b[1;33m \u001b[1;32mimport\u001b[0m \u001b[0mmysql\u001b[0m\u001b[1;33m.\u001b[0m\u001b[0mconnector\u001b[0m\u001b[1;33m\u001b[0m\u001b[0m\n\u001b[0m\u001b[0;32m      2\u001b[0m \u001b[1;33m\u001b[0m\u001b[0m\n\u001b[0;32m      3\u001b[0m \u001b[1;31m# Connect to the MySQL server\u001b[0m\u001b[1;33m\u001b[0m\u001b[1;33m\u001b[0m\u001b[0m\n\u001b[0;32m      4\u001b[0m connection = mysql.connector.connect(\n\u001b[0;32m      5\u001b[0m     \u001b[0mhost\u001b[0m\u001b[1;33m=\u001b[0m\u001b[1;34m\"localhost\"\u001b[0m\u001b[1;33m,\u001b[0m\u001b[1;33m\u001b[0m\u001b[0m\n",
      "\u001b[1;31mModuleNotFoundError\u001b[0m: No module named 'mysql'"
     ]
    }
   ],
   "source": [
    "import mysql.connector\n",
    "# Connect to the MySQL server\n",
    "connection = mysql.connector.connect(\n",
    "    host=\"localhost\",\n",
    "    user=\"root\",\n",
    "    password=\"Tatya313912\",\n",
    "    database=\"demo1\"\n",
    ")\n",
    "\n",
    "if connection.is_connected():\n",
    "    print(\"Connected to MySQL database\")\n",
    "\n",
    "    # Create a cursor object\n",
    "    cursor = connection.cursor()\n",
    "\n",
    "    # Define the SQL query to drop the table\n",
    "    table_name = \"subjectsDb\"\n",
    "    drop_table_query = f\"DROP TABLE IF EXISTS {table_name}\"\n",
    "\n",
    "    # Execute the SQL query\n",
    "    cursor.execute(drop_table_query)\n",
    "\n",
    "    # Commit the changes\n",
    "    connection.commit()\n",
    "\n",
    "    # Close the cursor and the connection\n",
    "    cursor.close()\n",
    "    connection.close()\n",
    "    print(\"Table deleted successfully\")\n",
    "else:\n",
    "    print(\"Failed to connect to MySQL database\")\n"
   ]
  },
  {
   "cell_type": "code",
   "execution_count": null,
   "metadata": {},
   "outputs": [],
   "source": []
  },
  {
   "cell_type": "code",
   "execution_count": 4,
   "metadata": {},
   "outputs": [
    {
     "name": "stdout",
     "output_type": "stream",
     "text": [
      "('12343', '1221', '13124', '1', '21/2/2024', '29/2/2024', 'Rajesh', 'Mishra', 'Shanti', 'Murali', '[101]', 'paid', '[11]', '2024', 'yes', '10', 'no', '1')\n",
      "('12343', '1221', '13124', '1', '21/2/2024', '29/2/2024', 'Rajesh', 'Mishra', 'Shanti', 'Murali', '[101]', 'paid', '[11]', '2024', 'yes', '10', 'no', '1')\n",
      "('12343', '1221', '13124', '1', '21/2/2024', '29/2/2024', 'Rajesh', 'Mishra', 'Shanti', 'Murali', '[101]', 'paid', '[11]', '2024', 'yes', '10', 'no', '1')\n",
      "('12343', '1221', '13124', '1', '21/2/2024', '29/2/2024', 'Rajesh', 'Mishra', 'Shanti', 'Murali', '[101]', 'paid', '[11]', '2024', 'yes', '10', 'no', '1')\n",
      "('29054', '1315', None, None, None, None, 'sanket ', 'patil', 'Rani', 'Maharaj', '[\"101\"]', 'pending', '[11]', None, 'yes', '10', 'no', None)\n",
      "('59396', '2486', None, None, '21/2/2024', '29/2/2024', 'sanket ', 'Chavan', 'Rani', 'Maharaj', '[\"101\"]', 'pending', '[11]', '2024', 'yes', '10', 'no', '1')\n",
      "('78604', '1294', '13124', None, '21/2/2024', '29/2/2024', 'sanket ', 'Chavan', 'Rani', 'Maharaj', '[\"102\"]', 'pending', '[11]', '2024', 'yes', '10', 'no', '1')\n"
     ]
    }
   ],
   "source": [
    "import mysql.connector\n",
    "\n",
    "# Connect to the MySQL server\n",
    "connection = mysql.connector.connect(\n",
    "    host=\"localhost\",\n",
    "    user=\"root\",\n",
    "    password=\"tanuj1221\",\n",
    "    database=\"demo1\"\n",
    ")\n",
    "\n",
    "# Create a cursor object using the connection\n",
    "cursor = connection.cursor()\n",
    "\n",
    "# Query to select all records from the institutedb table\n",
    "query = \"SELECT * FROM student14\"\n",
    "\n",
    "try:\n",
    "    # Execute the query\n",
    "    cursor.execute(query)\n",
    "\n",
    "    # Fetch all the rows\n",
    "    results = cursor.fetchall()\n",
    "\n",
    "    # Check if any rows are returned\n",
    "    if results:\n",
    "        for row in results:\n",
    "            print(row)  # Print each row\n",
    "    else:\n",
    "        print(\"No data found in the table.\")\n",
    "\n",
    "except mysql.connector.Error as e:\n",
    "    print(f\"Error: {e}\")\n",
    "\n",
    "finally:\n",
    "    # Close the cursor and connection to free up the resources\n",
    "    cursor.close()\n",
    "    connection.close()\n"
   ]
  },
  {
   "cell_type": "code",
   "execution_count": null,
   "metadata": {},
   "outputs": [],
   "source": [
    "\n"
   ]
  }
 ],
 "metadata": {
  "kernelspec": {
   "display_name": "Python 3",
   "language": "python",
   "name": "python3"
  },
  "language_info": {
   "codemirror_mode": {
    "name": "ipython",
    "version": 3
   },
   "file_extension": ".py",
   "mimetype": "text/x-python",
   "name": "python",
   "nbconvert_exporter": "python",
   "pygments_lexer": "ipython3",
   "version": "3.7.0"
  }
 },
 "nbformat": 4,
 "nbformat_minor": 2
}
